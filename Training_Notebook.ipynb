{
  "nbformat": 4,
  "nbformat_minor": 0,
  "metadata": {
    "colab": {
      "name": "Training_Notebook.ipynb",
      "provenance": [],
      "collapsed_sections": [],
      "authorship_tag": "ABX9TyMIjZBY+9JtbDbr2NaKfZuy",
      "include_colab_link": true
    },
    "kernelspec": {
      "name": "python3",
      "display_name": "Python 3"
    },
    "language_info": {
      "name": "python"
    },
    "accelerator": "GPU"
  },
  "cells": [
    {
      "cell_type": "markdown",
      "metadata": {
        "id": "view-in-github",
        "colab_type": "text"
      },
      "source": [
        "<a href=\"https://colab.research.google.com/github/ummadiviany/Pix2Pix/blob/main/Training_Notebook.ipynb\" target=\"_parent\"><img src=\"https://colab.research.google.com/assets/colab-badge.svg\" alt=\"Open In Colab\"/></a>"
      ]
    },
    {
      "cell_type": "markdown",
      "metadata": {
        "id": "XNzIHx9YGBtU"
      },
      "source": [
        "# Pix2Pix Training Notebook\n",
        "\n"
      ]
    },
    {
      "cell_type": "markdown",
      "metadata": {
        "id": "6797pkZeGKMh"
      },
      "source": [
        "## Installing necessary libraries"
      ]
    },
    {
      "cell_type": "code",
      "metadata": {
        "colab": {
          "base_uri": "https://localhost:8080/"
        },
        "id": "C-kzCLzY0Fe4",
        "outputId": "84b0b298-933f-41cd-f528-12465126f245"
      },
      "source": [
        "!pip install -q albumentations==0.4.6\n",
        "!pip install -q opendatasets"
      ],
      "execution_count": 1,
      "outputs": [
        {
          "output_type": "stream",
          "name": "stdout",
          "text": [
            "\u001b[K     |████████████████████████████████| 117 kB 4.3 MB/s \n",
            "\u001b[K     |████████████████████████████████| 948 kB 17.9 MB/s \n",
            "\u001b[?25h  Building wheel for albumentations (setup.py) ... \u001b[?25l\u001b[?25hdone\n"
          ]
        }
      ]
    },
    {
      "cell_type": "markdown",
      "metadata": {
        "id": "Nc1XKcgkGPu7"
      },
      "source": [
        "## Importing necessary libraries"
      ]
    },
    {
      "cell_type": "code",
      "metadata": {
        "colab": {
          "base_uri": "https://localhost:8080/"
        },
        "id": "h5TYKeQi02Sz",
        "outputId": "645fa592-c4f1-4238-812b-4731ae8e5b63"
      },
      "source": [
        "try:\n",
        "    import torch\n",
        "    import torch.nn as nn\n",
        "    import torch.optim as optim\n",
        "    from torch.utils.data import DataLoader, Dataset\n",
        "    import tqdm as tqdm\n",
        "    from torchvision.utils import save_image, make_grid\n",
        "    import albumentations as A\n",
        "    from albumentations.pytorch import ToTensorV2\n",
        "    import os\n",
        "    import numpy as np\n",
        "    from PIL import Image \n",
        "    from torchvision import datasets\n",
        "    import matplotlib.pyplot as plt\n",
        "    import opendatasets as od \n",
        "    %matplotlib inline\n",
        "    import pandas as pd\n",
        "    \n",
        "    print(\"Successfully imported all libraries\")\n",
        "except:\n",
        "    print(\"Errors in importing libraries\")\n"
      ],
      "execution_count": 2,
      "outputs": [
        {
          "output_type": "stream",
          "name": "stdout",
          "text": [
            "Successfully imported all libraries\n"
          ]
        }
      ]
    },
    {
      "cell_type": "markdown",
      "metadata": {
        "id": "0UqcVaYMGU__"
      },
      "source": [
        "## Cloning git repo for model functions"
      ]
    },
    {
      "cell_type": "code",
      "metadata": {
        "colab": {
          "base_uri": "https://localhost:8080/"
        },
        "id": "wT6Ktx-B02Yz",
        "outputId": "c60f5da8-deb4-4e74-e778-5df9da6a2825"
      },
      "source": [
        "!git clone https://github.com/ummadiviany/Pix2Pix"
      ],
      "execution_count": 3,
      "outputs": [
        {
          "output_type": "stream",
          "name": "stdout",
          "text": [
            "Cloning into 'Pix2Pix'...\n",
            "remote: Enumerating objects: 96, done.\u001b[K\n",
            "remote: Counting objects: 100% (96/96), done.\u001b[K\n",
            "remote: Compressing objects: 100% (83/83), done.\u001b[K\n",
            "remote: Total 96 (delta 25), reused 37 (delta 12), pack-reused 0\u001b[K\n",
            "Unpacking objects: 100% (96/96), done.\n"
          ]
        }
      ]
    },
    {
      "cell_type": "code",
      "metadata": {
        "id": "3yl00zAc02b5"
      },
      "source": [
        "from Pix2Pix.training_notebooks.generator_model import Generator\n",
        "from Pix2Pix.training_notebooks.discriminator_model import Discriminator\n",
        "from Pix2Pix.training_notebooks.dataset import MapDataset\n",
        "from Pix2Pix.training_notebooks.additional_functions import test_on_val_data"
      ],
      "execution_count": 4,
      "outputs": []
    },
    {
      "cell_type": "markdown",
      "metadata": {
        "id": "2HjnYEDbGd3D"
      },
      "source": [
        "## Datasets download\n",
        "Use the below kaggle usename and key for dataset download\n",
        "1. Below code cell prompts for kaggle username, copy the username from below and paste and hit ⌨Enter key.\n",
        "2. Again prompts for kaggle secure key, copy the key from below and paste and hit ⌨Enter key.\n",
        "- username ▶     **iamvinayummadi** \n",
        "- key:     ▶    **78f6cee94760fd02415c9024cba10173**"
      ]
    },
    {
      "cell_type": "code",
      "metadata": {
        "colab": {
          "base_uri": "https://localhost:8080/"
        },
        "id": "p7RAH-Cw4G-K",
        "outputId": "e922fff5-c5a3-464d-c6d3-1242166fcd38"
      },
      "source": [
        "od.download('https://www.kaggle.com/vikramtiwari/pix2pix-dataset')"
      ],
      "execution_count": 5,
      "outputs": [
        {
          "output_type": "stream",
          "name": "stdout",
          "text": [
            "Please provide your Kaggle credentials to download this dataset. Learn more: http://bit.ly/kaggle-creds\n",
            "Your Kaggle username: iamvinayummadi\n",
            "Your Kaggle Key: ··········\n",
            "Downloading pix2pix-dataset.zip to ./pix2pix-dataset\n"
          ]
        },
        {
          "output_type": "stream",
          "name": "stderr",
          "text": [
            "100%|██████████| 2.40G/2.40G [01:07<00:00, 38.3MB/s]\n"
          ]
        },
        {
          "output_type": "stream",
          "name": "stdout",
          "text": [
            "\n"
          ]
        }
      ]
    },
    {
      "cell_type": "markdown",
      "metadata": {
        "id": "Tbfx34KpHBl5"
      },
      "source": [
        "## Setting up hyperparameters"
      ]
    },
    {
      "cell_type": "code",
      "metadata": {
        "colab": {
          "base_uri": "https://localhost:8080/"
        },
        "id": "7dai5Hfb02e9",
        "outputId": "933949ab-4b16-4c1b-a28b-28d6964add29"
      },
      "source": [
        "loss_df = pd.DataFrame(columns=['D_Loss','G_Loss'])\n",
        "DEVICE = 'cuda' if torch.cuda.is_available() else 'cpu'\n",
        "print('Device :',DEVICE)\n",
        "TRAIN_DIR = \"pix2pix-dataset/maps/maps/train\"\n",
        "VAL_DIR = \"pix2pix-dataset/maps/maps/val\"\n",
        "LEARNING_RATE  = 3e-4\n",
        "BATCH_SIZE = 32\n",
        "NUM_WORKERS = 2\n",
        "IMAGE_SIZE = 256\n",
        "CHANNELS_IMG = 3\n",
        "L1_LAMBDA = 100\n",
        "LAMBDA_GP = 10\n",
        "NUM_EPOCHS = 2"
      ],
      "execution_count": 14,
      "outputs": [
        {
          "output_type": "stream",
          "name": "stdout",
          "text": [
            "Device : cuda\n"
          ]
        }
      ]
    },
    {
      "cell_type": "markdown",
      "metadata": {
        "id": "4DVZ8ML1HSB-"
      },
      "source": [
        "## Loading training and validation data"
      ]
    },
    {
      "cell_type": "code",
      "metadata": {
        "id": "v72-2h0h9F2S"
      },
      "source": [
        "train_dataset = MapDataset(root_dir= TRAIN_DIR, input_size=600,direction=0)\n",
        "train_loader = DataLoader(train_dataset,batch_size= BATCH_SIZE,shuffle=True,num_workers= NUM_WORKERS)\n",
        "\n",
        "val_dataset  = MapDataset(root_dir= VAL_DIR, input_size=600,direction=0)\n",
        "validation_loader = DataLoader(val_dataset,batch_size=4,shuffle=True)"
      ],
      "execution_count": 15,
      "outputs": []
    },
    {
      "cell_type": "markdown",
      "metadata": {
        "id": "CWZSomY7Hc93"
      },
      "source": [
        "## Model instances, optimizers, learning_rate schedulers, and loss functions\n",
        "1. Adam optimizer(lr = 2e-4,betas=(0.5,0.99) with stepwise learning rate decay is used. Learning rate decay by factor of 10 for every 20 epochs.\n",
        "2. BCE Loss for Discriminator and BCE + L1 Loss for Generator"
      ]
    },
    {
      "cell_type": "code",
      "metadata": {
        "id": "iv4DCnlc9BQk"
      },
      "source": [
        "disc = Discriminator(in_channels=3).to( DEVICE)\n",
        "gen_model = Generator(in_channels=3,features=64).to( DEVICE)\n",
        "\n",
        "opt_disc = optim.Adam(disc.parameters(),lr= LEARNING_RATE,betas=(0.5,0.999))\n",
        "opt_gen = optim.Adam(gen_model.parameters(),lr= LEARNING_RATE,betas=(0.5,0.999))\n",
        "\n",
        "scheduler_disc = optim.lr_scheduler.StepLR(opt_disc, step_size=20, gamma=0.1)\n",
        "scheduler_gen = optim.lr_scheduler.StepLR(opt_gen, step_size=20, gamma=0.1)\n",
        "\n",
        "BCE = nn.BCEWithLogitsLoss()\n",
        "L1_LOSS = nn.L1Loss()"
      ],
      "execution_count": 16,
      "outputs": []
    },
    {
      "cell_type": "markdown",
      "metadata": {
        "id": "p7kPqjTIHsWh"
      },
      "source": [
        "## Training loop\n",
        "* Prints Epoch, Batch, Discriminator Loss, Generator Loss\n",
        "* Saves an Image📺 with name format input_label_gen_.png for visualization. Please check that image📺"
      ]
    },
    {
      "cell_type": "code",
      "metadata": {
        "colab": {
          "base_uri": "https://localhost:8080/"
        },
        "id": "o7ejoP1b02k7",
        "outputId": "58b92bf4-2a30-4308-9859-c749aad85a4b"
      },
      "source": [
        "for epoch in range( NUM_EPOCHS):\n",
        "    print(f\"Epoch[{epoch}/{NUM_EPOCHS}], Learning Rate = {opt_disc.param_groups[0]['lr']}\")\n",
        "    for idx,(inputs,outputs) in enumerate(train_loader):\n",
        "        inputs,outputs=inputs.to( DEVICE), outputs.to( DEVICE)\n",
        "        \n",
        "        #Train Discriminator\n",
        "        outputs_fake = gen_model(inputs)\n",
        "        D_real = disc(inputs,outputs)\n",
        "        D_real_loss = BCE(D_real,torch.ones_like(D_real))\n",
        "        D_fake = disc(inputs,outputs_fake.detach())\n",
        "        D_fake_loss = BCE(D_fake,torch.zeros_like(D_fake))\n",
        "        D_loss = (D_real_loss+D_fake_loss)/2\n",
        "        disc.zero_grad()\n",
        "        D_loss.backward()\n",
        "        opt_disc.step()\n",
        "        \n",
        "        # Train Generator\n",
        "        D_fake = disc(inputs,outputs_fake)\n",
        "        G_fake_loss = BCE(D_fake,torch.ones_like(D_fake))\n",
        "        L1 = L1_LOSS(outputs_fake,outputs)* L1_LAMBDA\n",
        "        G_loss = G_fake_loss+L1\n",
        "        opt_gen.zero_grad()\n",
        "        G_loss.backward()\n",
        "        opt_gen.step()\n",
        "        \n",
        "        loss_df.loc[len(loss_df)] = [D_loss.mean().item(),G_loss.mean().item()]        \n",
        "        loss_df.to_csv('losses.csv',index=False)\n",
        "        print(f\"Epoch [{epoch+1}/{NUM_EPOCHS}]  Batch [{idx+1}/{len(train_loader)}] PatchGAN_Loss : {D_loss.mean().item():.4f}  Generator_Loss : {G_loss.mean().item():.4f}\")\n",
        "        test_on_val_data(epoch, \"/content/\", gen_model, validation_loader, DEVICE)\n",
        "    print('See the generated image at/content/input_label_gen_.png')\n",
        "    # Learning rate update with LR Scheduler\n",
        "    scheduler_disc.step()\n",
        "    scheduler_gen.step()"
      ],
      "execution_count": 17,
      "outputs": [
        {
          "output_type": "stream",
          "name": "stdout",
          "text": [
            "Epoch[0/2], Learning Rate = 0.0003\n",
            "Epoch [1/2]  Batch [1/35] PatchGAN_Loss : 0.7096  Generator_Loss : 74.1735\n",
            "Epoch [1/2]  Batch [2/35] PatchGAN_Loss : 0.9292  Generator_Loss : 64.8344\n",
            "Epoch [1/2]  Batch [3/35] PatchGAN_Loss : 0.7779  Generator_Loss : 57.0326\n",
            "Epoch [1/2]  Batch [4/35] PatchGAN_Loss : 0.7826  Generator_Loss : 49.2619\n",
            "Epoch [1/2]  Batch [5/35] PatchGAN_Loss : 0.7269  Generator_Loss : 47.2645\n",
            "Epoch [1/2]  Batch [6/35] PatchGAN_Loss : 0.7682  Generator_Loss : 43.0242\n",
            "Epoch [1/2]  Batch [7/35] PatchGAN_Loss : 0.6715  Generator_Loss : 38.8558\n",
            "Epoch [1/2]  Batch [8/35] PatchGAN_Loss : 0.6841  Generator_Loss : 36.0363\n",
            "Epoch [1/2]  Batch [9/35] PatchGAN_Loss : 0.6628  Generator_Loss : 33.6820\n",
            "Epoch [1/2]  Batch [10/35] PatchGAN_Loss : 0.6464  Generator_Loss : 33.2697\n",
            "Epoch [1/2]  Batch [11/35] PatchGAN_Loss : 0.6352  Generator_Loss : 31.1572\n",
            "Epoch [1/2]  Batch [12/35] PatchGAN_Loss : 0.6179  Generator_Loss : 29.3673\n",
            "Epoch [1/2]  Batch [13/35] PatchGAN_Loss : 0.6190  Generator_Loss : 27.9825\n",
            "Epoch [1/2]  Batch [14/35] PatchGAN_Loss : 0.6014  Generator_Loss : 26.6454\n",
            "Epoch [1/2]  Batch [15/35] PatchGAN_Loss : 0.5805  Generator_Loss : 25.6894\n",
            "Epoch [1/2]  Batch [16/35] PatchGAN_Loss : 0.6036  Generator_Loss : 26.4679\n",
            "Epoch [1/2]  Batch [17/35] PatchGAN_Loss : 0.5634  Generator_Loss : 23.1025\n",
            "Epoch [1/2]  Batch [18/35] PatchGAN_Loss : 0.5114  Generator_Loss : 23.6358\n",
            "Epoch [1/2]  Batch [19/35] PatchGAN_Loss : 0.4648  Generator_Loss : 21.4990\n",
            "Epoch [1/2]  Batch [20/35] PatchGAN_Loss : 0.5137  Generator_Loss : 21.8894\n",
            "Epoch [1/2]  Batch [21/35] PatchGAN_Loss : 0.3816  Generator_Loss : 22.1157\n",
            "Epoch [1/2]  Batch [22/35] PatchGAN_Loss : 0.4235  Generator_Loss : 21.6017\n",
            "Epoch [1/2]  Batch [23/35] PatchGAN_Loss : 0.4919  Generator_Loss : 20.2644\n",
            "Epoch [1/2]  Batch [24/35] PatchGAN_Loss : 0.3978  Generator_Loss : 20.4834\n",
            "Epoch [1/2]  Batch [25/35] PatchGAN_Loss : 0.3895  Generator_Loss : 19.4143\n",
            "Epoch [1/2]  Batch [26/35] PatchGAN_Loss : 0.3851  Generator_Loss : 20.6060\n",
            "Epoch [1/2]  Batch [27/35] PatchGAN_Loss : 0.3593  Generator_Loss : 20.5327\n",
            "Epoch [1/2]  Batch [28/35] PatchGAN_Loss : 0.3237  Generator_Loss : 20.9707\n",
            "Epoch [1/2]  Batch [29/35] PatchGAN_Loss : 0.3383  Generator_Loss : 20.4865\n",
            "Epoch [1/2]  Batch [30/35] PatchGAN_Loss : 0.2813  Generator_Loss : 19.4680\n",
            "Epoch [1/2]  Batch [31/35] PatchGAN_Loss : 0.3102  Generator_Loss : 19.1352\n",
            "Epoch [1/2]  Batch [32/35] PatchGAN_Loss : 0.2097  Generator_Loss : 18.5121\n",
            "Epoch [1/2]  Batch [33/35] PatchGAN_Loss : 0.2274  Generator_Loss : 18.9162\n",
            "Epoch [1/2]  Batch [34/35] PatchGAN_Loss : 0.3335  Generator_Loss : 18.8400\n",
            "Epoch [1/2]  Batch [35/35] PatchGAN_Loss : 0.2690  Generator_Loss : 22.6645\n",
            "See the generated image at/content/input_label_gen_.png\n",
            "Epoch[1/2], Learning Rate = 0.0003\n",
            "Epoch [2/2]  Batch [1/35] PatchGAN_Loss : 0.5281  Generator_Loss : 21.2247\n",
            "Epoch [2/2]  Batch [2/35] PatchGAN_Loss : 0.3332  Generator_Loss : 20.1232\n",
            "Epoch [2/2]  Batch [3/35] PatchGAN_Loss : 0.4617  Generator_Loss : 18.6242\n",
            "Epoch [2/2]  Batch [4/35] PatchGAN_Loss : 0.2289  Generator_Loss : 18.5709\n",
            "Epoch [2/2]  Batch [5/35] PatchGAN_Loss : 0.2679  Generator_Loss : 17.4529\n",
            "Epoch [2/2]  Batch [6/35] PatchGAN_Loss : 0.1683  Generator_Loss : 17.4143\n",
            "Epoch [2/2]  Batch [7/35] PatchGAN_Loss : 0.1766  Generator_Loss : 17.4162\n",
            "Epoch [2/2]  Batch [8/35] PatchGAN_Loss : 0.2311  Generator_Loss : 17.6866\n",
            "Epoch [2/2]  Batch [9/35] PatchGAN_Loss : 0.2413  Generator_Loss : 19.5277\n",
            "Epoch [2/2]  Batch [10/35] PatchGAN_Loss : 0.2158  Generator_Loss : 18.1025\n",
            "Epoch [2/2]  Batch [11/35] PatchGAN_Loss : 0.2518  Generator_Loss : 18.3498\n",
            "Epoch [2/2]  Batch [12/35] PatchGAN_Loss : 0.2214  Generator_Loss : 19.7805\n",
            "Epoch [2/2]  Batch [13/35] PatchGAN_Loss : 0.1545  Generator_Loss : 19.0500\n",
            "Epoch [2/2]  Batch [14/35] PatchGAN_Loss : 0.1805  Generator_Loss : 18.8161\n",
            "Epoch [2/2]  Batch [15/35] PatchGAN_Loss : 0.2727  Generator_Loss : 18.6846\n",
            "Epoch [2/2]  Batch [16/35] PatchGAN_Loss : 0.1465  Generator_Loss : 19.0698\n",
            "Epoch [2/2]  Batch [17/35] PatchGAN_Loss : 0.1718  Generator_Loss : 17.8677\n",
            "Epoch [2/2]  Batch [18/35] PatchGAN_Loss : 0.1070  Generator_Loss : 19.6701\n",
            "Epoch [2/2]  Batch [19/35] PatchGAN_Loss : 0.0952  Generator_Loss : 18.6320\n",
            "Epoch [2/2]  Batch [20/35] PatchGAN_Loss : 0.1771  Generator_Loss : 17.9499\n",
            "Epoch [2/2]  Batch [21/35] PatchGAN_Loss : 0.1721  Generator_Loss : 18.2885\n",
            "Epoch [2/2]  Batch [22/35] PatchGAN_Loss : 0.1182  Generator_Loss : 17.9940\n",
            "Epoch [2/2]  Batch [23/35] PatchGAN_Loss : 0.0838  Generator_Loss : 18.7790\n",
            "Epoch [2/2]  Batch [24/35] PatchGAN_Loss : 0.0599  Generator_Loss : 18.5283\n",
            "Epoch [2/2]  Batch [25/35] PatchGAN_Loss : 0.2459  Generator_Loss : 20.7275\n",
            "Epoch [2/2]  Batch [26/35] PatchGAN_Loss : 0.4117  Generator_Loss : 19.6324\n",
            "Epoch [2/2]  Batch [27/35] PatchGAN_Loss : 0.2361  Generator_Loss : 17.0848\n",
            "Epoch [2/2]  Batch [28/35] PatchGAN_Loss : 0.2047  Generator_Loss : 17.7737\n",
            "Epoch [2/2]  Batch [29/35] PatchGAN_Loss : 0.2304  Generator_Loss : 17.4538\n",
            "Epoch [2/2]  Batch [30/35] PatchGAN_Loss : 0.1332  Generator_Loss : 18.0884\n",
            "Epoch [2/2]  Batch [31/35] PatchGAN_Loss : 0.1231  Generator_Loss : 17.9379\n",
            "Epoch [2/2]  Batch [32/35] PatchGAN_Loss : 0.1454  Generator_Loss : 18.7169\n",
            "Epoch [2/2]  Batch [33/35] PatchGAN_Loss : 0.0885  Generator_Loss : 18.1791\n",
            "Epoch [2/2]  Batch [34/35] PatchGAN_Loss : 0.0989  Generator_Loss : 18.0233\n",
            "Epoch [2/2]  Batch [35/35] PatchGAN_Loss : 0.2010  Generator_Loss : 18.4494\n",
            "See the generated image at/content/input_label_gen_.png\n"
          ]
        }
      ]
    },
    {
      "cell_type": "markdown",
      "metadata": {
        "id": "YxddB7hUGAKk"
      },
      "source": [
        "## Plotting Loss values"
      ]
    },
    {
      "cell_type": "code",
      "metadata": {
        "colab": {
          "base_uri": "https://localhost:8080/",
          "height": 279
        },
        "id": "VGB9eztQ020d",
        "outputId": "ce9ab58d-f1e4-496e-988a-f91fa055dacb"
      },
      "source": [
        "df_loss = pd.read_csv('losses.csv')\n",
        "plt.plot(df_loss['D_Loss'],label='PatchGAN Loss')\n",
        "plt.plot(df_loss['G_Loss'],label='Generator Loss')\n",
        "plt.xlabel('No of Batch Iterations')\n",
        "plt.ylabel('Loss')\n",
        "plt.legend()\n",
        "plt.show()"
      ],
      "execution_count": 18,
      "outputs": [
        {
          "output_type": "display_data",
          "data": {
            "image/png": "[encoded data removed]",
            "text/plain": [
              "<Figure size 432x288 with 1 Axes>"
            ]
          },
          "metadata": {
            "needs_background": "light"
          }
        }
      ]
    },
    {
      "cell_type": "code",
      "metadata": {
        "id": "sB5ENXuuMVZc"
      },
      "source": [
        ""
      ],
      "execution_count": null,
      "outputs": []
    }
  ]
}