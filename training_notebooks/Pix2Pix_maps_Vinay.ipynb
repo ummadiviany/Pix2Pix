{
 "cells": [
  {
   "cell_type": "code",
   "execution_count": null,
   "id": "after-bibliography",
   "metadata": {
    "gradient": {
     "editing": false
    }
   },
   "outputs": [],
   "source": [
    "import torch\n",
    "import torch.nn as nn\n",
    "import torch.optim as optim\n",
    "from torch.utils.data import DataLoader\n",
    "\n",
    "from tqdm import tqdm\n",
    "from torchvision.utils import save_image\n",
    "\n",
    "import albumentations as A\n",
    "from albumentations.pytorch import ToTensorV2\n",
    "\n",
    "import torch\n",
    "import config\n",
    "from torchvision.utils import save_image\n",
    "import os\n",
    "\n",
    "import numpy as np\n",
    "import config\n",
    "import os\n",
    "from PIL import Image\n",
    "from torch.utils.data import Dataset, DataLoader\n",
    "from torchvision.utils import save_image\n",
    "\n",
    "import torch.nn as nn"
   ]
  },
  {
   "cell_type": "code",
   "execution_count": null,
   "id": "metallic-monthly",
   "metadata": {
    "gradient": {
     "editing": false
    }
   },
   "outputs": [],
   "source": [
    "def save_some_examples(gen, val_loader, epoch, folder):\n",
    "    x,y = next(iter(val_loader))\n",
    "    x,y = x.to( DEVICE), y.to( DEVICE)\n",
    "\n",
    "    gen.eval()\n",
    "    with torch.no_grad():\n",
    "        # horse\n",
    "        y_fake = gen(x)\n",
    "        res = torch.cat([x * 0.5 + 0.5,y * 0.5 + 0.5,y_fake*0.5 + 0.5],dim=2)\n",
    "        save_image(res, folder + f\"/input_label_gen_{epoch+412}.png\")\n",
    "\n",
    "    gen.train()\n",
    "\n",
    "def save_checkpoint(model, optimizer, filename=\"my_checkpoint.pth.tar\"):\n",
    "    print(\"------Saving Checkpoint-------\")\n",
    "    checkpoint = {\n",
    "        \"state_dict\":model.state_dict(),\n",
    "        \"optimizer\":optimizer.state_dict()\n",
    "    }\n",
    "    torch.save(checkpoint,filename)\n",
    "\n",
    "def load_checkpoint(checkpoint_file, model, optimizer,lr):\n",
    "    print(\"------Loading Checkpoint\")\n",
    "    checkpoint = torch.load(checkpoint_file,map_location= DEVICE)\n",
    "    model.load_state_dict(checkpoint[\"state_dict\"])\n",
    "    optimizer.load_state_dict(checkpoint[\"optimizer\"])\n",
    "\n",
    "    for param_group in optimizer.param_groups:\n",
    "        param_group[\"lr\"] = lr"
   ]
  },
  {
   "cell_type": "code",
   "execution_count": null,
   "id": "outer-mason",
   "metadata": {
    "gradient": {
     "editing": false
    }
   },
   "outputs": [],
   "source": [
    "class Block(nn.Module):\n",
    "    def __init__(self,in_channels,out_channels,down=True,act='relu',use_dropout=False):\n",
    "        super().__init__()\n",
    "\n",
    "        self.conv = nn.Sequential(\n",
    "            nn.Conv2d(in_channels,out_channels,4,2,1,bias=False,padding_mode='reflect')\n",
    "            if down \n",
    "            else nn.ConvTranspose2d(in_channels,out_channels,4,2,1,bias=False),\n",
    "            nn.BatchNorm2d(out_channels),\n",
    "            nn.ReLU() if act=='relu' else nn.LeakyReLU(0.2),\n",
    "\n",
    "        )\n",
    "\n",
    "        self.use_dropout = use_dropout\n",
    "        self.drop = nn.Dropout(0.5)\n",
    "\n",
    "    def forward(self,x):\n",
    "        x=self.conv(x)\n",
    "        return self.drop(x) if self.use_dropout else x\n",
    "\n",
    "\n",
    "class Generator(nn.Module):\n",
    "    def __init__(self,in_channels=3,features=64):\n",
    "        super().__init__()\n",
    "\n",
    "        self.initial_down = nn.Sequential(\n",
    "            nn.Conv2d(in_channels,features,4,2,1,padding_mode='reflect'),\n",
    "            nn.LeakyReLU(0.2)\n",
    "        )\n",
    "        self.down1 = Block(features,features*2,down=True,act='leaky',use_dropout=False)\n",
    "        self.down2 = Block(features*2,features*4,down=True,act='leaky',use_dropout=False)\n",
    "        self.down3 = Block(features*4,features*8,down=True,act='leaky',use_dropout=False)\n",
    "        self.down4 = Block(features*8,features*8,down=True,act='leaky',use_dropout=False)\n",
    "        self.down5 = Block(features*8,features*8,down=True,act='leaky',use_dropout=False)\n",
    "        self.down6 = Block(features*8,features*8,down=True,act='leaky',use_dropout=False)\n",
    "\n",
    "        self.bottleneck = nn.Sequential(\n",
    "            nn.Conv2d(features*8,features*8,4,2,1),nn.ReLU()\n",
    "        )\n",
    "\n",
    "        self.up1 = Block(features*8,features*8, down=False,act='relu', use_dropout=True)\n",
    "        self.up2 = Block(features*8*2,features*8, down=False,act='relu', use_dropout=True)\n",
    "        self.up3 = Block(features*8*2,features*8, down=False,act='relu', use_dropout=True)\n",
    "        self.up4 = Block(features*8*2,features*8, down=False,act='relu', use_dropout=True)\n",
    "        self.up5 = Block(features*8*2,features*4, down=False,act='relu', use_dropout=True)\n",
    "        self.up6 = Block(features*4*2,features*2, down=False,act='relu', use_dropout=True)\n",
    "        self.up7 = Block(features*2*2,features, down=False,act='relu', use_dropout=True)\n",
    "\n",
    "        self.final_up = nn.Sequential(\n",
    "            nn.ConvTranspose2d(features*2, in_channels,kernel_size=4,stride=2,padding=1),\n",
    "            nn.Tanh()\n",
    "        )\n",
    "\n",
    "\n",
    "    def forward(self,x):\n",
    "        d1 = self.initial_down(x)\n",
    "        d2 = self.down1(d1)\n",
    "        d3 = self.down2(d2)\n",
    "        d4 = self.down3(d3)\n",
    "        d5 = self.down4(d4)\n",
    "        d6 = self.down5(d5)\n",
    "        d7 = self.down6(d6)\n",
    "        bottleneck = self.bottleneck(d7)\n",
    "\n",
    "        up1 = self.up1(bottleneck)\n",
    "        up2 = self.up2(torch.cat([up1,d7],1))\n",
    "        up3 = self.up3(torch.cat([up2,d6],1))\n",
    "        up4 = self.up4(torch.cat([up3,d5],1))\n",
    "        up5 = self.up5(torch.cat([up4,d4],1))\n",
    "        up6 = self.up6(torch.cat([up5,d3],1))\n",
    "        up7 = self.up7(torch.cat([up6,d2],1))\n",
    "        \n",
    "        return self.final_up(torch.cat([up7,d1],1))"
   ]
  },
  {
   "cell_type": "code",
   "execution_count": null,
   "id": "precise-appointment",
   "metadata": {
    "gradient": {
     "editing": false
    }
   },
   "outputs": [],
   "source": [
    "class CNNBlock(nn.Module):\n",
    "    def __init__(self,in_channels,out_channels,stride=2):\n",
    "        super().__init__()\n",
    "        self.conv=nn.Sequential(\n",
    "            nn.Conv2d(in_channels,out_channels,4,stride,bias=False,padding_mode='reflect'),\n",
    "            nn.BatchNorm2d(out_channels),\n",
    "            nn.LeakyReLU(0.2),\n",
    "        )\n",
    "\n",
    "    def forward(self,x):\n",
    "        return self.conv(x)\n",
    "\n",
    "    \n",
    "class Discriminator(nn.Module):\n",
    "    def __init__(self,in_channels=3,features=[64,128,256,512]):\n",
    "        super().__init__()\n",
    "        self.initial = nn.Sequential(\n",
    "            nn.Conv2d(in_channels*2,features[0],kernel_size=4,stride=2,padding=1,padding_mode='reflect'),\n",
    "            nn.LeakyReLU(0.2)\n",
    "        )\n",
    "\n",
    "        layers = []\n",
    "        in_channels = features[0]\n",
    "        for feature in features[1:]:\n",
    "            layers.append(\n",
    "                CNNBlock(in_channels,feature,stride= 1 if feature == features[-1] else 2)\n",
    "            )\n",
    "            in_channels = feature\n",
    "\n",
    "        layers.append(\n",
    "            nn.Conv2d(in_channels,1,kernel_size=4,stride=1,padding=1,padding_mode='reflect')\n",
    "        )\n",
    "\n",
    "        self.model = nn.Sequential(*layers)\n",
    "\n",
    "    def forward(self,x,y):\n",
    "        x = torch.cat([x,y],dim=1)\n",
    "        x = self.initial(x)\n",
    "        return self.model(x)"
   ]
  },
  {
   "cell_type": "code",
   "execution_count": null,
   "id": "hollywood-egypt",
   "metadata": {
    "gradient": {
     "editing": false
    }
   },
   "outputs": [],
   "source": [
    "class MapDataset(Dataset):\n",
    "    def __init__(self,root_dir):\n",
    "        self.root_dir = root_dir\n",
    "        self.list_files = os.listdir(self.root_dir)\n",
    "\n",
    "    def __len__(self):\n",
    "        return len(self.list_files)\n",
    "\n",
    "    def __getitem__(self,index):\n",
    "        img_file = self.list_files[index]\n",
    "        img_path = os.path.join(self.root_dir, img_file)\n",
    "        image = np.array(Image.open(img_path))\n",
    "        input_image = image[:,:600,:]\n",
    "        target_image = image[:,600:,:]\n",
    "\n",
    "        augmentations =  both_transform(image=input_image,image0=target_image)\n",
    "        input_image = augmentations[\"image\"]\n",
    "        target_image = augmentations[\"image0\"]\n",
    "\n",
    "        input_image =  transform_only_input(image=input_image)[\"image\"]\n",
    "        target_image =  transform_only_mask(image=target_image)[\"image\"]\n",
    "\n",
    "        return input_image, target_image"
   ]
  },
  {
   "cell_type": "code",
   "execution_count": null,
   "id": "young-brick",
   "metadata": {
    "gradient": {
     "editing": false
    }
   },
   "outputs": [],
   "source": [
    "DEVICE = 'cuda' if torch.cuda.is_available() else 'cpu'\n",
    "TRAIN_DIR = \"pix2pix-dataset/maps/maps/train\"\n",
    "VAL_DIR = \"pix2pix-dataset/maps/maps/val\"\n",
    "LEARNING_RATE  = 2e-4\n",
    "BATCH_SIZE = 8\n",
    "NUM_WORKERS = 2\n",
    "IMAGE_SIZE = 256\n",
    "CHANNELS_IMG = 3\n",
    "L1_LAMBDA = 100\n",
    "LAMBDA_GP = 10\n",
    "NUM_EPOCHS = 500\n",
    "LOAD_MODEL = True\n",
    "SAVE_MODEL = True\n",
    "CHECKPOINT_DISC = \"disc_maps.pth.tar\"\n",
    "CHECKPOINT_GEN = \"gen_maps.pth.tar\"\n",
    "\n",
    "both_transform  = A.Compose(\n",
    "    [A.Resize(width=256,height=256),],additional_targets = {\"image0\":\"image\"},\n",
    ")\n",
    "\n",
    "transform_only_input = A.Compose(\n",
    "    [\n",
    "        A.ColorJitter(p=0.2),\n",
    "        A.Normalize(mean=[0.5,0.5,0.5],std=[0.5,0.5,0.5],max_pixel_value=255.0),\n",
    "        ToTensorV2()\n",
    "    ]\n",
    ")\n",
    "\n",
    "transform_only_mask = A.Compose(\n",
    "    [\n",
    "        A.Normalize(mean=[0.5,0.5,0.5],std=[0.5,0.5,0.5],max_pixel_value=255.0),\n",
    "        ToTensorV2()\n",
    "    ]\n",
    ")"
   ]
  },
  {
   "cell_type": "code",
   "execution_count": null,
   "id": "diagnostic-specific",
   "metadata": {
    "gradient": {
     "editing": false
    }
   },
   "outputs": [],
   "source": [
    "torch.backends.cudnn.benchmark = True\n",
    "\n",
    "def train_fn(disc,gen,loader,opt_disc,opt_gen,l1_loss,bce,g_scaler,d_scaler):\n",
    "    loop = tqdm(loader,leave=True)\n",
    "\n",
    "    for idx,(x,y) in enumerate(loop):\n",
    "        x,y=x.to( DEVICE),y.to( DEVICE)\n",
    "        #Train Discriminator\n",
    "\n",
    "        with torch.cuda.amp.autocast():\n",
    "            y_fake = gen(x)\n",
    "            D_real = disc(x,y)\n",
    "            D_real_loss = bce(D_real,torch.ones_like(D_real))\n",
    "            D_fake = disc(x,y_fake.detach())\n",
    "            D_fake_loss = bce(D_fake,torch.zeros_like(D_fake))\n",
    "            D_loss = (D_real_loss+D_fake_loss)/2\n",
    "\n",
    "        disc.zero_grad()\n",
    "        d_scaler.scale(D_loss).backward()\n",
    "        d_scaler.step(opt_disc)\n",
    "        d_scaler.update()\n",
    "        \n",
    "        # Train Generator\n",
    "\n",
    "        with torch.cuda.amp.autocast():\n",
    "            D_fake = disc(x,y_fake)\n",
    "            G_fake_loss = bce(D_fake,torch.ones_like(D_fake))\n",
    "            L1 = l1_loss(y_fake,y)* L1_LAMBDA\n",
    "            G_loss = G_fake_loss+L1\n",
    "\n",
    "        opt_gen.zero_grad()\n",
    "        g_scaler.scale(G_loss).backward()\n",
    "        g_scaler.step(opt_gen)\n",
    "        g_scaler.update()\n",
    "\n",
    "        if idx%10 == 0:\n",
    "            loop.set_postfix(\n",
    "                D_real = torch.sigmoid(D_real).mean().item(),\n",
    "                D_fake = torch.sigmoid(D_fake).mean().item()\n",
    "            )\n",
    "def main():\n",
    "    disc = Discriminator(in_channels=3).to( DEVICE)\n",
    "    gen = Generator(in_channels=3,features=64).to( DEVICE)\n",
    "    opt_disc = optim.Adam(disc.parameters(),lr= LEARNING_RATE,betas=(0.5,0.999))\n",
    "    opt_gen = optim.Adam(gen.parameters(),lr= LEARNING_RATE,betas=(0.5,0.999))\n",
    "    BCE = nn.BCEWithLogitsLoss()\n",
    "    L1_LOSS = nn.L1Loss()\n",
    "\n",
    "    if  LOAD_MODEL:\n",
    "        load_checkpoint(\n",
    "             CHECKPOINT_GEN,gen,opt_gen, LEARNING_RATE\n",
    "        )\n",
    "        load_checkpoint(\n",
    "             CHECKPOINT_DISC,disc,opt_disc, LEARNING_RATE\n",
    "        )\n",
    "\n",
    "    train_dataset = MapDataset(root_dir= TRAIN_DIR)\n",
    "    train_loader = DataLoader(train_dataset,batch_size= BATCH_SIZE,shuffle=True,num_workers= NUM_WORKERS)\n",
    "    g_scaler = torch.cuda.amp.GradScaler()\n",
    "    d_scaler = torch.cuda.amp.GradScaler()\n",
    "\n",
    "    val_dataset  = MapDataset(root_dir= VAL_DIR)\n",
    "    val_loader = DataLoader(val_dataset,batch_size=4,shuffle=True)\n",
    "\n",
    "    for epoch in range( NUM_EPOCHS):\n",
    "        train_fn(\n",
    "            disc,gen,train_loader,opt_disc,opt_gen,L1_LOSS,BCE,g_scaler,d_scaler\n",
    "        )\n",
    "\n",
    "        if  SAVE_MODEL and epoch%5 ==0:\n",
    "            save_checkpoint(gen,opt_gen,filename= CHECKPOINT_GEN)\n",
    "            save_checkpoint(disc,opt_disc,filename= CHECKPOINT_DISC)\n",
    "\n",
    "        save_some_examples(gen,val_loader,epoch,folder=\"evaluation_maps\")"
   ]
  },
  {
   "cell_type": "code",
   "execution_count": null,
   "id": "through-aurora",
   "metadata": {
    "gradient": {
     "editing": false
    }
   },
   "outputs": [
    {
     "name": "stdout",
     "output_type": "stream",
     "text": [
      "------Loading Checkpoint\n",
      "------Loading Checkpoint\n"
     ]
    },
    {
     "name": "stderr",
     "output_type": "stream",
     "text": [
      "100%|██████████| 137/137 [01:50<00:00,  1.24it/s, D_fake=0.0048, D_real=0.983]  \n"
     ]
    },
    {
     "name": "stdout",
     "output_type": "stream",
     "text": [
      "------Saving Checkpoint-------\n",
      "------Saving Checkpoint-------\n"
     ]
    },
    {
     "name": "stderr",
     "output_type": "stream",
     "text": [
      "100%|██████████| 137/137 [01:33<00:00,  1.47it/s, D_fake=0.0279, D_real=0.706] \n",
      "100%|██████████| 137/137 [01:45<00:00,  1.30it/s, D_fake=0.000364, D_real=1]   \n",
      "100%|██████████| 137/137 [01:44<00:00,  1.31it/s, D_fake=0.00577, D_real=1]  \n",
      "100%|██████████| 137/137 [01:45<00:00,  1.30it/s, D_fake=0.00855, D_real=0.993]\n",
      "100%|██████████| 137/137 [01:45<00:00,  1.30it/s, D_fake=0.000609, D_real=1]    \n"
     ]
    },
    {
     "name": "stdout",
     "output_type": "stream",
     "text": [
      "------Saving Checkpoint-------\n",
      "------Saving Checkpoint-------\n"
     ]
    },
    {
     "name": "stderr",
     "output_type": "stream",
     "text": [
      "100%|██████████| 137/137 [01:32<00:00,  1.48it/s, D_fake=0.0028, D_real=1]     \n",
      "100%|██████████| 137/137 [01:44<00:00,  1.30it/s, D_fake=0.00701, D_real=1]    \n",
      "100%|██████████| 137/137 [01:44<00:00,  1.31it/s, D_fake=0.0042, D_real=0.997] \n",
      "100%|██████████| 137/137 [01:43<00:00,  1.33it/s, D_fake=0.00294, D_real=1]    \n",
      "100%|██████████| 137/137 [01:45<00:00,  1.30it/s, D_fake=3.34e-5, D_real=1]   \n"
     ]
    },
    {
     "name": "stdout",
     "output_type": "stream",
     "text": [
      "------Saving Checkpoint-------\n",
      "------Saving Checkpoint-------\n"
     ]
    },
    {
     "name": "stderr",
     "output_type": "stream",
     "text": [
      "100%|██████████| 137/137 [01:45<00:00,  1.30it/s, D_fake=0.00951, D_real=1] \n",
      "100%|██████████| 137/137 [01:45<00:00,  1.30it/s, D_fake=0.0125, D_real=1]     \n",
      "100%|██████████| 137/137 [01:45<00:00,  1.30it/s, D_fake=0.00289, D_real=0.999]\n",
      "100%|██████████| 137/137 [01:45<00:00,  1.30it/s, D_fake=0.00212, D_real=0.999]\n",
      "100%|██████████| 137/137 [01:45<00:00,  1.30it/s, D_fake=0.0101, D_real=0.985] \n"
     ]
    },
    {
     "name": "stdout",
     "output_type": "stream",
     "text": [
      "------Saving Checkpoint-------\n",
      "------Saving Checkpoint-------\n"
     ]
    },
    {
     "name": "stderr",
     "output_type": "stream",
     "text": [
      "100%|██████████| 137/137 [01:45<00:00,  1.30it/s, D_fake=0.0288, D_real=0.995] \n",
      "100%|██████████| 137/137 [01:45<00:00,  1.30it/s, D_fake=0.0098, D_real=1]    \n",
      "100%|██████████| 137/137 [01:45<00:00,  1.30it/s, D_fake=0.000482, D_real=1]  \n",
      "100%|██████████| 137/137 [01:43<00:00,  1.32it/s, D_fake=0.00253, D_real=1]    \n",
      "100%|██████████| 137/137 [01:44<00:00,  1.31it/s, D_fake=0.00363, D_real=0.999]\n"
     ]
    },
    {
     "name": "stdout",
     "output_type": "stream",
     "text": [
      "------Saving Checkpoint-------\n",
      "------Saving Checkpoint-------\n"
     ]
    },
    {
     "name": "stderr",
     "output_type": "stream",
     "text": [
      "100%|██████████| 137/137 [01:45<00:00,  1.30it/s, D_fake=0.00256, D_real=1]   \n",
      "100%|██████████| 137/137 [01:45<00:00,  1.30it/s, D_fake=0.00257, D_real=1]\n",
      "100%|██████████| 137/137 [01:45<00:00,  1.30it/s, D_fake=0.0693, D_real=1]     \n",
      "100%|██████████| 137/137 [01:45<00:00,  1.30it/s, D_fake=0.00321, D_real=1]   \n",
      "100%|██████████| 137/137 [01:45<00:00,  1.30it/s, D_fake=0.119, D_real=0.664]  \n"
     ]
    },
    {
     "name": "stdout",
     "output_type": "stream",
     "text": [
      "------Saving Checkpoint-------\n",
      "------Saving Checkpoint-------\n"
     ]
    },
    {
     "name": "stderr",
     "output_type": "stream",
     "text": [
      "100%|██████████| 137/137 [01:45<00:00,  1.30it/s, D_fake=0.00729, D_real=0.993]\n",
      " 78%|███████▊  | 107/137 [01:22<00:22,  1.31it/s, D_fake=0.00376, D_real=1]   "
     ]
    }
   ],
   "source": [
    "main()"
   ]
  },
  {
   "cell_type": "code",
   "execution_count": null,
   "id": "competent-monroe",
   "metadata": {
    "gradient": {
     "editing": false
    }
   },
   "outputs": [],
   "source": []
  },
  {
   "cell_type": "code",
   "execution_count": null,
   "id": "offensive-equivalent",
   "metadata": {
    "gradient": {
     "editing": false
    }
   },
   "outputs": [],
   "source": []
  }
 ],
 "metadata": {
  "kernelspec": {
   "display_name": "Python 3",
   "language": "python",
   "name": "python3"
  },
  "language_info": {
   "codemirror_mode": {
    "name": "ipython",
    "version": 3
   },
   "file_extension": ".py",
   "mimetype": "text/x-python",
   "name": "python",
   "nbconvert_exporter": "python",
   "pygments_lexer": "ipython3",
   "version": "3.8.5"
  }
 },
 "nbformat": 4,
 "nbformat_minor": 5
}
